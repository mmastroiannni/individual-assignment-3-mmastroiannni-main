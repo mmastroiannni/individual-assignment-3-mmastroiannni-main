{
 "cells": [
  {
   "cell_type": "markdown",
   "metadata": {},
   "source": [
    "# Individual Assignment 3"
   ]
  },
  {
   "cell_type": "raw",
   "metadata": {},
   "source": []
  },
  {
   "cell_type": "markdown",
   "metadata": {},
   "source": [
    "Name: Mastroianni, Michael, mmastroianni@ryerson.ca\n",
    "\n",
    "This assignment extends the in-class exercise on multiple linear regression analysis. You are allowed to use all resources you can find, including lecture slides, in-class examples, previous group assignments, LinkedIn training courses, and the internet.\n",
    "\n",
    "You are **not allowed** to discuss this assignment with anyone other than the course instructor. This assignment is required to be your individual work. \n",
    "\n",
    "Completed assignment should be merged to the main branch in your repository."
   ]
  },
  {
   "cell_type": "markdown",
   "metadata": {},
   "source": [
    "***\n",
    "## Data Description\n",
    "\n",
    "The data set is contained in a comma-separated value (csv) file named ```CDN_hprice.csv``` with column headers. \n",
    "\n",
    "The data is a set of quarterly observations on a housing price index and other relevant variables in Canada for 1976 through 2019.\n",
    "\n",
    "This data set is obtained from [Federal Reserve Bank of Dallas's International House Price Database](https://www.dallasfed.org/institute/houseprice).\n",
    "\n",
    "Description of the data is as follow:\n",
    "\n",
    "| Variable name | Variable description |\n",
    "| -- | ----------- |\n",
    "| Year      | Year |\n",
    "| Quarter   | Quarter |\n",
    "| RHPI      | House Price Index (real) |\n",
    "| RPDI      | Personal disposable income (real) |\n",
    "| logRHPI   | log(RHPI)   |\n",
    "| logRPDI   | log(RPDI)   |\n",
    "| UE        | Unemployment rate (in percentage points) |\n",
    "| CPI       | Consumer Price Index |\n",
    "| TB10_rt   | 10-year treasury bond rate (nominal) |\n",
    "| RTB10_rt  | 10-year Treasury Bond rate (real) |\n"
   ]
  },
  {
   "cell_type": "markdown",
   "metadata": {},
   "source": [
    "***\n",
    "## Load the required modules"
   ]
  },
  {
   "cell_type": "code",
   "execution_count": 17,
   "metadata": {},
   "outputs": [],
   "source": [
    "import numpy as np\n",
    "import pandas as pd\n",
    "import statsmodels\n",
    "import statsmodels.api as sm\n",
    "import statsmodels.formula.api as smf\n",
    "import matplotlib.pyplot"
   ]
  },
  {
   "cell_type": "markdown",
   "metadata": {},
   "source": [
    "***\n",
    "## Import the data set\n",
    "\n",
    "#### Load the data set into Python"
   ]
  },
  {
   "cell_type": "code",
   "execution_count": 2,
   "metadata": {},
   "outputs": [
    {
     "data": {
      "text/html": [
       "<div>\n",
       "<style scoped>\n",
       "    .dataframe tbody tr th:only-of-type {\n",
       "        vertical-align: middle;\n",
       "    }\n",
       "\n",
       "    .dataframe tbody tr th {\n",
       "        vertical-align: top;\n",
       "    }\n",
       "\n",
       "    .dataframe thead th {\n",
       "        text-align: right;\n",
       "    }\n",
       "</style>\n",
       "<table border=\"1\" class=\"dataframe\">\n",
       "  <thead>\n",
       "    <tr style=\"text-align: right;\">\n",
       "      <th></th>\n",
       "      <th>Year</th>\n",
       "      <th>Quarter</th>\n",
       "      <th>RHPI</th>\n",
       "      <th>RPDI</th>\n",
       "      <th>RTB10_rt</th>\n",
       "      <th>CPI</th>\n",
       "      <th>TB10_rt</th>\n",
       "      <th>UE</th>\n",
       "      <th>logRHPI</th>\n",
       "      <th>logRPDI</th>\n",
       "    </tr>\n",
       "  </thead>\n",
       "  <tbody>\n",
       "    <tr>\n",
       "      <th>0</th>\n",
       "      <td>1976</td>\n",
       "      <td>Q1</td>\n",
       "      <td>58.98</td>\n",
       "      <td>74.11</td>\n",
       "      <td>0.835</td>\n",
       "      <td>24.414</td>\n",
       "      <td>9.327</td>\n",
       "      <td>6.867</td>\n",
       "      <td>4.0772</td>\n",
       "      <td>4.3056</td>\n",
       "    </tr>\n",
       "    <tr>\n",
       "      <th>1</th>\n",
       "      <td>1976</td>\n",
       "      <td>Q2</td>\n",
       "      <td>59.81</td>\n",
       "      <td>75.93</td>\n",
       "      <td>2.535</td>\n",
       "      <td>24.783</td>\n",
       "      <td>9.270</td>\n",
       "      <td>7.167</td>\n",
       "      <td>4.0912</td>\n",
       "      <td>4.3298</td>\n",
       "    </tr>\n",
       "    <tr>\n",
       "      <th>2</th>\n",
       "      <td>1976</td>\n",
       "      <td>Q3</td>\n",
       "      <td>58.82</td>\n",
       "      <td>73.23</td>\n",
       "      <td>2.885</td>\n",
       "      <td>25.125</td>\n",
       "      <td>8.937</td>\n",
       "      <td>7.367</td>\n",
       "      <td>4.0745</td>\n",
       "      <td>4.2936</td>\n",
       "    </tr>\n",
       "    <tr>\n",
       "      <th>3</th>\n",
       "      <td>1976</td>\n",
       "      <td>Q4</td>\n",
       "      <td>57.63</td>\n",
       "      <td>75.18</td>\n",
       "      <td>1.919</td>\n",
       "      <td>25.652</td>\n",
       "      <td>8.610</td>\n",
       "      <td>7.733</td>\n",
       "      <td>4.0540</td>\n",
       "      <td>4.3199</td>\n",
       "    </tr>\n",
       "    <tr>\n",
       "      <th>4</th>\n",
       "      <td>1977</td>\n",
       "      <td>Q1</td>\n",
       "      <td>55.78</td>\n",
       "      <td>74.07</td>\n",
       "      <td>0.943</td>\n",
       "      <td>26.310</td>\n",
       "      <td>8.783</td>\n",
       "      <td>7.867</td>\n",
       "      <td>4.0214</td>\n",
       "      <td>4.3050</td>\n",
       "    </tr>\n",
       "  </tbody>\n",
       "</table>\n",
       "</div>"
      ],
      "text/plain": [
       "   Year Quarter   RHPI   RPDI  RTB10_rt     CPI  TB10_rt     UE  logRHPI  \\\n",
       "0  1976      Q1  58.98  74.11     0.835  24.414    9.327  6.867   4.0772   \n",
       "1  1976      Q2  59.81  75.93     2.535  24.783    9.270  7.167   4.0912   \n",
       "2  1976      Q3  58.82  73.23     2.885  25.125    8.937  7.367   4.0745   \n",
       "3  1976      Q4  57.63  75.18     1.919  25.652    8.610  7.733   4.0540   \n",
       "4  1977      Q1  55.78  74.07     0.943  26.310    8.783  7.867   4.0214   \n",
       "\n",
       "   logRPDI  \n",
       "0   4.3056  \n",
       "1   4.3298  \n",
       "2   4.2936  \n",
       "3   4.3199  \n",
       "4   4.3050  "
      ]
     },
     "execution_count": 2,
     "metadata": {},
     "output_type": "execute_result"
    }
   ],
   "source": [
    "hprice = pd.read_csv(\"CDN_hprice.csv\")\n",
    "hprice.head()"
   ]
  },
  {
   "cell_type": "markdown",
   "metadata": {},
   "source": [
    "***\n",
    "## Question 1\n",
    "\n",
    "#### 1.1 Sort the data in ascending order by year and quarter"
   ]
  },
  {
   "cell_type": "code",
   "execution_count": 3,
   "metadata": {},
   "outputs": [
    {
     "name": "stdout",
     "output_type": "stream",
     "text": [
      "   Year Quarter   RHPI   RPDI  RTB10_rt     CPI  TB10_rt     UE  logRHPI  \\\n",
      "0  1976      Q1  58.98  74.11     0.835  24.414    9.327  6.867   4.0772   \n",
      "1  1976      Q2  59.81  75.93     2.535  24.783    9.270  7.167   4.0912   \n",
      "2  1976      Q3  58.82  73.23     2.885  25.125    8.937  7.367   4.0745   \n",
      "3  1976      Q4  57.63  75.18     1.919  25.652    8.610  7.733   4.0540   \n",
      "4  1977      Q1  55.78  74.07     0.943  26.310    8.783  7.867   4.0214   \n",
      "5  1977      Q2  55.20  75.11     0.238  26.863    8.653  8.233   4.0110   \n",
      "6  1977      Q3  54.45  73.77    -0.360  27.416    8.727  8.400   3.9973   \n",
      "7  1977      Q4  56.11  74.34     0.044  27.969    9.083  8.367   4.0273   \n",
      "8  1978      Q1  55.73  76.48     0.366  28.628    9.207  8.467   4.0205   \n",
      "9  1978      Q2  56.04  75.70    -0.051  29.339    9.160  8.467   4.0261   \n",
      "\n",
      "   logRPDI  \n",
      "0   4.3056  \n",
      "1   4.3298  \n",
      "2   4.2936  \n",
      "3   4.3199  \n",
      "4   4.3050  \n",
      "5   4.3190  \n",
      "6   4.3010  \n",
      "7   4.3086  \n",
      "8   4.3370  \n",
      "9   4.3268  \n"
     ]
    }
   ],
   "source": [
    "hprice = hprice.sort_values(by=[\"Year\",\"Quarter\"])\n",
    "print(hprice.head(10))"
   ]
  },
  {
   "cell_type": "markdown",
   "metadata": {},
   "source": [
    "#### 1.2 Generate time index\n",
    "\n",
    "Create new variable ```t``` such that $t=0$ in the first period. \n",
    "\n",
    "Note that we have repeated year and quarters. You can create the the required index by:\n",
    "1. Sorting the observations in ascending order, as you are asked to do in (1.1)\n",
    "2. Add a new column using the ```df.index``` method, where ```df``` is the name of the pandas dataframe"
   ]
  },
  {
   "cell_type": "code",
   "execution_count": 4,
   "metadata": {},
   "outputs": [
    {
     "name": "stdout",
     "output_type": "stream",
     "text": [
      "   Year Quarter   RHPI   RPDI  RTB10_rt     CPI  TB10_rt     UE  logRHPI  \\\n",
      "0  1976      Q1  58.98  74.11     0.835  24.414    9.327  6.867   4.0772   \n",
      "1  1976      Q2  59.81  75.93     2.535  24.783    9.270  7.167   4.0912   \n",
      "2  1976      Q3  58.82  73.23     2.885  25.125    8.937  7.367   4.0745   \n",
      "3  1976      Q4  57.63  75.18     1.919  25.652    8.610  7.733   4.0540   \n",
      "4  1977      Q1  55.78  74.07     0.943  26.310    8.783  7.867   4.0214   \n",
      "\n",
      "   logRPDI  t  \n",
      "0   4.3056  0  \n",
      "1   4.3298  1  \n",
      "2   4.2936  2  \n",
      "3   4.3199  3  \n",
      "4   4.3050  4  \n"
     ]
    }
   ],
   "source": [
    "hprice[\"t\"] = hprice.index\n",
    "print(hprice.head())"
   ]
  },
  {
   "cell_type": "markdown",
   "metadata": {},
   "source": [
    "#### 1.3 Generate lag variable\n",
    "\n",
    "Here we create lag variables with a lag of **4** period. That is, in quarterly frequency, the lag variable is in the *same* quarter but *different* year.\n",
    "\n",
    "Create a new column in the date set named ```logRHPI_4```, such that $\\text{logRHPI}\\_4 = \\log(\\textit{RHPI}_{t-4})$ "
   ]
  },
  {
   "cell_type": "code",
   "execution_count": 6,
   "metadata": {},
   "outputs": [
    {
     "name": "stdout",
     "output_type": "stream",
     "text": [
      "   Year Quarter   RHPI   RPDI  RTB10_rt     CPI  TB10_rt     UE  logRHPI  \\\n",
      "0  1976      Q1  58.98  74.11     0.835  24.414    9.327  6.867   4.0772   \n",
      "1  1976      Q2  59.81  75.93     2.535  24.783    9.270  7.167   4.0912   \n",
      "2  1976      Q3  58.82  73.23     2.885  25.125    8.937  7.367   4.0745   \n",
      "3  1976      Q4  57.63  75.18     1.919  25.652    8.610  7.733   4.0540   \n",
      "4  1977      Q1  55.78  74.07     0.943  26.310    8.783  7.867   4.0214   \n",
      "5  1977      Q2  55.20  75.11     0.238  26.863    8.653  8.233   4.0110   \n",
      "6  1977      Q3  54.45  73.77    -0.360  27.416    8.727  8.400   3.9973   \n",
      "7  1977      Q4  56.11  74.34     0.044  27.969    9.083  8.367   4.0273   \n",
      "\n",
      "   logRPDI  t  logRHPI_4  \n",
      "0   4.3056  0        NaN  \n",
      "1   4.3298  1        NaN  \n",
      "2   4.2936  2        NaN  \n",
      "3   4.3199  3        NaN  \n",
      "4   4.3050  4     4.0772  \n",
      "5   4.3190  5     4.0912  \n",
      "6   4.3010  6     4.0745  \n",
      "7   4.3086  7     4.0540  \n"
     ]
    }
   ],
   "source": [
    "hprice[\"logRHPI_4\"] = hprice[\"logRHPI\"].shift(4)\n",
    "print(hprice.head(8))"
   ]
  },
  {
   "cell_type": "markdown",
   "metadata": {},
   "source": [
    "Create a new column in the date set named ```logRPDI_4```, such that $\\text{logRPDI}\\_4 = \\log(\\textit{RPDI}_{t-4})$ "
   ]
  },
  {
   "cell_type": "code",
   "execution_count": 7,
   "metadata": {},
   "outputs": [
    {
     "name": "stdout",
     "output_type": "stream",
     "text": [
      "   Year Quarter   RHPI   RPDI  RTB10_rt     CPI  TB10_rt     UE  logRHPI  \\\n",
      "0  1976      Q1  58.98  74.11     0.835  24.414    9.327  6.867   4.0772   \n",
      "1  1976      Q2  59.81  75.93     2.535  24.783    9.270  7.167   4.0912   \n",
      "2  1976      Q3  58.82  73.23     2.885  25.125    8.937  7.367   4.0745   \n",
      "3  1976      Q4  57.63  75.18     1.919  25.652    8.610  7.733   4.0540   \n",
      "4  1977      Q1  55.78  74.07     0.943  26.310    8.783  7.867   4.0214   \n",
      "5  1977      Q2  55.20  75.11     0.238  26.863    8.653  8.233   4.0110   \n",
      "\n",
      "   logRPDI  t  logRHPI_4  logRPDI_4  \n",
      "0   4.3056  0        NaN        NaN  \n",
      "1   4.3298  1        NaN        NaN  \n",
      "2   4.2936  2        NaN        NaN  \n",
      "3   4.3199  3        NaN        NaN  \n",
      "4   4.3050  4     4.0772     4.3056  \n",
      "5   4.3190  5     4.0912     4.3298  \n"
     ]
    }
   ],
   "source": [
    "hprice[\"logRPDI_4\"] = hprice[\"logRPDI\"].shift(4)\n",
    "print(hprice.head(6))"
   ]
  },
  {
   "cell_type": "markdown",
   "metadata": {},
   "source": [
    "#### 1.4 Generate \"*first-differencing*\" variables\n",
    "\n",
    "It is also known as the year-over-year difference, because we take the difference between now and 4 quarters (a year) ago. \n",
    "\n",
    "E.g. we are calulating the change from 2018 Q1 to 2019 Q1. \n",
    "\n",
    "Create a new column named ```gRHPI```, such that $\\textit{gRHPI}_t = \\Delta \\log(\\textit{RHPI}_t) = \\log(\\textit{RHPI}_t) - \\log(\\textit{RHPI}_{t-4})$"
   ]
  },
  {
   "cell_type": "code",
   "execution_count": 11,
   "metadata": {},
   "outputs": [
    {
     "name": "stdout",
     "output_type": "stream",
     "text": [
      "   Year Quarter   RHPI   RPDI  RTB10_rt     CPI  TB10_rt     UE  logRHPI  \\\n",
      "0  1976      Q1  58.98  74.11     0.835  24.414    9.327  6.867   4.0772   \n",
      "1  1976      Q2  59.81  75.93     2.535  24.783    9.270  7.167   4.0912   \n",
      "2  1976      Q3  58.82  73.23     2.885  25.125    8.937  7.367   4.0745   \n",
      "3  1976      Q4  57.63  75.18     1.919  25.652    8.610  7.733   4.0540   \n",
      "4  1977      Q1  55.78  74.07     0.943  26.310    8.783  7.867   4.0214   \n",
      "5  1977      Q2  55.20  75.11     0.238  26.863    8.653  8.233   4.0110   \n",
      "6  1977      Q3  54.45  73.77    -0.360  27.416    8.727  8.400   3.9973   \n",
      "7  1977      Q4  56.11  74.34     0.044  27.969    9.083  8.367   4.0273   \n",
      "\n",
      "   logRPDI  t  logRHPI_4  logRPDI_4   gPHPI   gRHPI  \n",
      "0   4.3056  0        NaN        NaN     NaN     NaN  \n",
      "1   4.3298  1        NaN        NaN     NaN     NaN  \n",
      "2   4.2936  2        NaN        NaN     NaN     NaN  \n",
      "3   4.3199  3        NaN        NaN     NaN     NaN  \n",
      "4   4.3050  4     4.0772     4.3056 -0.0558 -0.0558  \n",
      "5   4.3190  5     4.0912     4.3298 -0.0802 -0.0802  \n",
      "6   4.3010  6     4.0745     4.2936 -0.0772 -0.0772  \n",
      "7   4.3086  7     4.0540     4.3199 -0.0267 -0.0267  \n"
     ]
    }
   ],
   "source": [
    "hprice[\"gRHPI\"] = hprice[\"logRHPI\"] - hprice[\"logRHPI_4\"]\n",
    "print(hprice.head(8))"
   ]
  },
  {
   "cell_type": "markdown",
   "metadata": {},
   "source": [
    "***\n",
    "## Question 2\n",
    "\n",
    "Consider the following model for house price growth:\n",
    "$$\\textit{gRHPI}_t = \\beta_0 + \\beta_1 t + \\delta_1 Q2 + \\delta_2 Q3 + \\delta_3 Q4 + u_t$$\n",
    "\n",
    "- $t = 0, 1, 2, \\ldots$ is the time index you created in (1.2)\n",
    "- Q2, Q3, Q4 are dummy variables that equals to 1 in the second, third, and fourth quarter, respectively. Otherwise, they are equal to 0. "
   ]
  },
  {
   "cell_type": "markdown",
   "metadata": {},
   "source": [
    "#### 2.1 Estimate the model"
   ]
  },
  {
   "cell_type": "code",
   "execution_count": 18,
   "metadata": {},
   "outputs": [],
   "source": [
    "model_spec = smf.ols(formula = \"gRHPI ~ 1 + t + C(Quarter)\", data = hprice)\n",
    "model_est = model_spec.fit()"
   ]
  },
  {
   "cell_type": "markdown",
   "metadata": {},
   "source": [
    "#### 2.2 Get the estimation results"
   ]
  },
  {
   "cell_type": "code",
   "execution_count": 19,
   "metadata": {},
   "outputs": [
    {
     "name": "stdout",
     "output_type": "stream",
     "text": [
      "                            OLS Regression Results                            \n",
      "==============================================================================\n",
      "Dep. Variable:                  gRHPI   R-squared:                       0.032\n",
      "Model:                            OLS   Adj. R-squared:                  0.009\n",
      "Method:                 Least Squares   F-statistic:                     1.370\n",
      "Date:                Mon, 07 Dec 2020   Prob (F-statistic):              0.247\n",
      "Time:                        20:07:58   Log-Likelihood:                 211.10\n",
      "No. Observations:                 172   AIC:                            -412.2\n",
      "Df Residuals:                     167   BIC:                            -396.5\n",
      "Df Model:                           4                                         \n",
      "Covariance Type:            nonrobust                                         \n",
      "====================================================================================\n",
      "                       coef    std err          t      P>|t|      [0.025      0.975]\n",
      "------------------------------------------------------------------------------------\n",
      "Intercept            0.0033      0.015      0.226      0.822      -0.026       0.032\n",
      "C(Quarter)[T.Q2]    -0.0003      0.016     -0.021      0.983      -0.031       0.030\n",
      "C(Quarter)[T.Q3] -9.635e-05      0.016     -0.006      0.995      -0.031       0.031\n",
      "C(Quarter)[T.Q4]     0.0001      0.016      0.008      0.994      -0.031       0.031\n",
      "t                    0.0003      0.000      2.340      0.020    4.04e-05       0.000\n",
      "==============================================================================\n",
      "Omnibus:                       13.448   Durbin-Watson:                   0.198\n",
      "Prob(Omnibus):                  0.001   Jarque-Bera (JB):               38.491\n",
      "Skew:                          -0.063   Prob(JB):                     4.38e-09\n",
      "Kurtosis:                       5.314   Cond. No.                         454.\n",
      "==============================================================================\n",
      "\n",
      "Warnings:\n",
      "[1] Standard Errors assume that the covariance matrix of the errors is correctly specified.\n"
     ]
    }
   ],
   "source": [
    "print(model_est.summary())"
   ]
  },
  {
   "cell_type": "markdown",
   "metadata": {},
   "source": [
    "#### 2.3 What is the benchmark (base period) in this model?"
   ]
  },
  {
   "cell_type": "markdown",
   "metadata": {},
   "source": [
    "the benchmark period or base period references when all variables are equal to 0. In this model the base period is in quarter 1 when t is equal to 0. quarter 1 would be 1976. "
   ]
  },
  {
   "cell_type": "markdown",
   "metadata": {},
   "source": [
    "#### 2.4 At 5% significance level, is there a statistically significant time trend?"
   ]
  },
  {
   "cell_type": "markdown",
   "metadata": {},
   "source": [
    "Yes. there is a time trend because the p-va;ue is smaller than 0.05."
   ]
  },
  {
   "cell_type": "markdown",
   "metadata": {},
   "source": [
    "#### 2.5 At 5% significance level, would you conclude that house price growth exhibits seasonality at quarterly frequency?"
   ]
  },
  {
   "cell_type": "markdown",
   "metadata": {},
   "source": [
    "I would not. This is because the p-values for the quarter variables are greater than 0.05."
   ]
  },
  {
   "cell_type": "markdown",
   "metadata": {},
   "source": [
    "***\n",
    "## Question 3\n",
    "\n",
    "Consider a house price model with AR(1) specification:\n",
    "$$\\textit{gRHPI}_t = \\beta_0 + \\beta_1 t + \\beta_2 \\textit{gRHPI}_{t-1} + \\delta_1 Q2 + \\delta_2 Q3 + \\delta_3 Q4 + u_t$$\n",
    "\n",
    "#### 3.1 Create a new column in the date set named ```gRHPI_1```, such that $\\textit{gRHPI}\\_1 = \\textit{gRHPI}_{t-1}$ "
   ]
  },
  {
   "cell_type": "code",
   "execution_count": 20,
   "metadata": {},
   "outputs": [
    {
     "name": "stdout",
     "output_type": "stream",
     "text": [
      "   Year Quarter   RHPI   RPDI  RTB10_rt     CPI  TB10_rt     UE  logRHPI  \\\n",
      "0  1976      Q1  58.98  74.11     0.835  24.414    9.327  6.867   4.0772   \n",
      "1  1976      Q2  59.81  75.93     2.535  24.783    9.270  7.167   4.0912   \n",
      "2  1976      Q3  58.82  73.23     2.885  25.125    8.937  7.367   4.0745   \n",
      "3  1976      Q4  57.63  75.18     1.919  25.652    8.610  7.733   4.0540   \n",
      "4  1977      Q1  55.78  74.07     0.943  26.310    8.783  7.867   4.0214   \n",
      "5  1977      Q2  55.20  75.11     0.238  26.863    8.653  8.233   4.0110   \n",
      "\n",
      "   logRPDI  t  logRHPI_4  logRPDI_4   gPHPI   gRHPI  gRHPI_1  \n",
      "0   4.3056  0        NaN        NaN     NaN     NaN      NaN  \n",
      "1   4.3298  1        NaN        NaN     NaN     NaN      NaN  \n",
      "2   4.2936  2        NaN        NaN     NaN     NaN      NaN  \n",
      "3   4.3199  3        NaN        NaN     NaN     NaN      NaN  \n",
      "4   4.3050  4     4.0772     4.3056 -0.0558 -0.0558      NaN  \n",
      "5   4.3190  5     4.0912     4.3298 -0.0802 -0.0802  -0.0558  \n"
     ]
    }
   ],
   "source": [
    "hprice['gRHPI_1'] = hprice[\"gRHPI\"].shift(1)\n",
    "print(hprice.head(6))"
   ]
  },
  {
   "cell_type": "markdown",
   "metadata": {},
   "source": [
    "#### 3.2 Estimate the model"
   ]
  },
  {
   "cell_type": "code",
   "execution_count": 21,
   "metadata": {},
   "outputs": [],
   "source": [
    "model_spec = smf.ols(formula = \"gRHPI ~ 1 + t + C(Quarter) + gRHPI_1\", data = hprice)\n",
    "model_est = model_spec.fit()"
   ]
  },
  {
   "cell_type": "markdown",
   "metadata": {},
   "source": [
    "#### 3.3 Get the estimation results"
   ]
  },
  {
   "cell_type": "code",
   "execution_count": 22,
   "metadata": {},
   "outputs": [
    {
     "name": "stdout",
     "output_type": "stream",
     "text": [
      "                            OLS Regression Results                            \n",
      "==============================================================================\n",
      "Dep. Variable:                  gRHPI   R-squared:                       0.817\n",
      "Model:                            OLS   Adj. R-squared:                  0.811\n",
      "Method:                 Least Squares   F-statistic:                     147.1\n",
      "Date:                Mon, 07 Dec 2020   Prob (F-statistic):           6.78e-59\n",
      "Time:                        20:15:02   Log-Likelihood:                 352.36\n",
      "No. Observations:                 171   AIC:                            -692.7\n",
      "Df Residuals:                     165   BIC:                            -673.9\n",
      "Df Model:                           5                                         \n",
      "Covariance Type:            nonrobust                                         \n",
      "====================================================================================\n",
      "                       coef    std err          t      P>|t|      [0.025      0.975]\n",
      "------------------------------------------------------------------------------------\n",
      "Intercept            0.0028      0.007      0.435      0.664      -0.010       0.016\n",
      "C(Quarter)[T.Q2]    -0.0009      0.007     -0.136      0.892      -0.014       0.013\n",
      "C(Quarter)[T.Q3]    -0.0004      0.007     -0.055      0.956      -0.014       0.013\n",
      "C(Quarter)[T.Q4]    -0.0003      0.007     -0.051      0.959      -0.014       0.013\n",
      "t                 7.111e-06   4.94e-05      0.144      0.886   -9.05e-05       0.000\n",
      "gRHPI_1              0.8995      0.034     26.640      0.000       0.833       0.966\n",
      "==============================================================================\n",
      "Omnibus:                       57.470   Durbin-Watson:                   0.838\n",
      "Prob(Omnibus):                  0.000   Jarque-Bera (JB):              205.004\n",
      "Skew:                          -1.269   Prob(JB):                     3.05e-45\n",
      "Kurtosis:                       7.725   Cond. No.                     1.44e+03\n",
      "==============================================================================\n",
      "\n",
      "Warnings:\n",
      "[1] Standard Errors assume that the covariance matrix of the errors is correctly specified.\n",
      "[2] The condition number is large, 1.44e+03. This might indicate that there are\n",
      "strong multicollinearity or other numerical problems.\n"
     ]
    }
   ],
   "source": [
    "print(model_est.summary())"
   ]
  },
  {
   "cell_type": "markdown",
   "metadata": {},
   "source": [
    "#### 3.4 At 5% significance level, what would you conclude about $\\beta_2$?"
   ]
  },
  {
   "cell_type": "markdown",
   "metadata": {},
   "source": [
    "i believe we would reject. this is because house prices from a year ago are unknown. "
   ]
  },
  {
   "cell_type": "markdown",
   "metadata": {},
   "source": [
    "#### 3.5 Does the AR(1) process have weak dependence?"
   ]
  },
  {
   "cell_type": "markdown",
   "metadata": {},
   "source": [
    "yes because beta is equal to 0"
   ]
  },
  {
   "cell_type": "markdown",
   "metadata": {},
   "source": [
    "#### 3.6 Is the time trend still significant? Why or why not?"
   ]
  },
  {
   "cell_type": "markdown",
   "metadata": {},
   "source": [
    "yes it is still significant at 5%. the estimate is indeed smaller though. "
   ]
  },
  {
   "cell_type": "markdown",
   "metadata": {},
   "source": [
    "***\n",
    "## Question 4\n",
    "\n",
    "Consider a house price model with AR(1) specification and other exogenous regressors:\n",
    "$$\\textit{gRHPI}_t = \\beta_0 + \\beta_1 t + \\beta_2 \\textit{gRHPI}_{t-1} + \\beta_3 \\text{UE}_t + \\delta_1 Q2 + \\delta_2 Q3 + \\delta_3 Q4 + u_t$$"
   ]
  },
  {
   "cell_type": "markdown",
   "metadata": {},
   "source": [
    "#### 4.1 Estimate the model"
   ]
  },
  {
   "cell_type": "code",
   "execution_count": 24,
   "metadata": {},
   "outputs": [],
   "source": [
    "model_spec = smf.ols(formula = \"gRHPI ~ 1 + t + C(Quarter) + gRHPI_1 + UE\", data = hprice)\n",
    "model_est = model_spec.fit()"
   ]
  },
  {
   "cell_type": "markdown",
   "metadata": {},
   "source": [
    "#### 4.2 Get the estimation results"
   ]
  },
  {
   "cell_type": "code",
   "execution_count": 25,
   "metadata": {},
   "outputs": [
    {
     "name": "stdout",
     "output_type": "stream",
     "text": [
      "                            OLS Regression Results                            \n",
      "==============================================================================\n",
      "Dep. Variable:                  gRHPI   R-squared:                       0.830\n",
      "Model:                            OLS   Adj. R-squared:                  0.824\n",
      "Method:                 Least Squares   F-statistic:                     133.7\n",
      "Date:                Mon, 07 Dec 2020   Prob (F-statistic):           1.68e-60\n",
      "Time:                        20:21:02   Log-Likelihood:                 358.90\n",
      "No. Observations:                 171   AIC:                            -703.8\n",
      "Df Residuals:                     164   BIC:                            -681.8\n",
      "Df Model:                           6                                         \n",
      "Covariance Type:            nonrobust                                         \n",
      "====================================================================================\n",
      "                       coef    std err          t      P>|t|      [0.025      0.975]\n",
      "------------------------------------------------------------------------------------\n",
      "Intercept            0.0799      0.022      3.592      0.000       0.036       0.124\n",
      "C(Quarter)[T.Q2]    -0.0013      0.007     -0.203      0.839      -0.014       0.012\n",
      "C(Quarter)[T.Q3]    -0.0008      0.007     -0.123      0.903      -0.014       0.012\n",
      "C(Quarter)[T.Q4]    -0.0005      0.007     -0.078      0.938      -0.013       0.012\n",
      "t                   -0.0001   6.17e-05     -2.174      0.031      -0.000   -1.23e-05\n",
      "gRHPI_1              0.8190      0.039     20.741      0.000       0.741       0.897\n",
      "UE                  -0.0076      0.002     -3.612      0.000      -0.012      -0.003\n",
      "==============================================================================\n",
      "Omnibus:                       30.314   Durbin-Watson:                   0.825\n",
      "Prob(Omnibus):                  0.000   Jarque-Bera (JB):               70.571\n",
      "Skew:                          -0.759   Prob(JB):                     4.74e-16\n",
      "Kurtosis:                       5.757   Cond. No.                     1.86e+03\n",
      "==============================================================================\n",
      "\n",
      "Warnings:\n",
      "[1] Standard Errors assume that the covariance matrix of the errors is correctly specified.\n",
      "[2] The condition number is large, 1.86e+03. This might indicate that there are\n",
      "strong multicollinearity or other numerical problems.\n"
     ]
    }
   ],
   "source": [
    "print(model_est.summary())"
   ]
  },
  {
   "cell_type": "markdown",
   "metadata": {},
   "source": [
    "#### 4.3 How would you interpret $\\beta_3$? (Be careful on how unemployment rate is reported in the data set)"
   ]
  },
  {
   "cell_type": "markdown",
   "metadata": {},
   "source": [
    "when a unit of unemployment increases than the unit gRHPI would be affected by -0.759. This means that as unemployment raises one house prices decrase by 0.759%."
   ]
  },
  {
   "cell_type": "markdown",
   "metadata": {},
   "source": [
    "#### 4.4 At 5% significance level, what would you conclude about $\\beta_3$?"
   ]
  },
  {
   "cell_type": "markdown",
   "metadata": {},
   "source": [
    "we would reject the hypothosis that employment has no effect on house prices."
   ]
  },
  {
   "cell_type": "markdown",
   "metadata": {},
   "source": [
    "#### 4.5 Explain why the AR(1) dependence ($\\beta_2$) is weakened, when compare with your results in Question 3."
   ]
  },
  {
   "cell_type": "markdown",
   "metadata": {},
   "source": [
    "This could be because of the added variable in question 4. That would mean that question 3 AR(1) would have less variables to depend on therefore it is weighted heavier. "
   ]
  },
  {
   "cell_type": "markdown",
   "metadata": {},
   "source": [
    "***\n",
    "## References\n",
    "- Jeffrey M. Wooldridge (2012). \"Introductory Econometrics: A Modern Approach, 5e\" Chapter 11.\n",
    "    \n",
    "- Seabold, Skipper, and Josef Perktold (2010). \"[statsmodels: Econometric and statistical modeling with python](https://www.statsmodels.org/stable/examples/notebooks/generated/ols.html).\" Proceedings of the 9th Python in Science Conference."
   ]
  }
 ],
 "metadata": {
  "kernelspec": {
   "display_name": "Python 3",
   "language": "python",
   "name": "python3"
  },
  "language_info": {
   "codemirror_mode": {
    "name": "ipython",
    "version": 3
   },
   "file_extension": ".py",
   "mimetype": "text/x-python",
   "name": "python",
   "nbconvert_exporter": "python",
   "pygments_lexer": "ipython3",
   "version": "3.8.3"
  }
 },
 "nbformat": 4,
 "nbformat_minor": 4
}
